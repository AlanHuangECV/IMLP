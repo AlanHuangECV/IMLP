{
 "cells": [
  {
   "cell_type": "markdown",
   "metadata": {},
   "source": [
    "# Python programming \n",
    "## Crash Course on Python Coding Practice\n",
    "\n",
    "No matter the level of mastery you hope to get to in Python,<br> \n",
    "you'll need these fundamentals in place before you jump into any project.<br><br>\n",
    "\n",
    "You need to know how to:\n",
    "\n",
    "- declare variables\n",
    "- collect user input\n",
    "- store information\n",
    "- repeat an action through loops\n",
    "- write functions to repeat blocks of code\n"
   ]
  },
  {
   "cell_type": "markdown",
   "metadata": {},
   "source": [
    "### 01 - 奇偶數辨別（Odd or even）\n",
    "#### 當使用者輸入一個的數字，它能夠辨別奇偶，並輸出檢驗結果給使用者。\n",
    "\n",
    "> 題目：輸入一數字判斷奇數或偶數<br>\n",
    "輸入(Input): 一個數字 <br>\n",
    "輸出(Output):奇數或偶數\n",
    "\n",
    "* 進階: 可以限制輸入一個介於一定範圍（例如 1 到 1000）的數字"
   ]
  },
  {
   "cell_type": "code",
   "execution_count": 1,
   "metadata": {},
   "outputs": [
    {
     "name": "stdin",
     "output_type": "stream",
     "text": [
      "請輸入1~1000內的數字（輸入0退出）： 88\n"
     ]
    },
    {
     "name": "stdout",
     "output_type": "stream",
     "text": [
      "這個數字是偶數\n"
     ]
    },
    {
     "name": "stdin",
     "output_type": "stream",
     "text": [
      "請輸入1~1000內的數字（輸入0退出）： 0\n"
     ]
    },
    {
     "name": "stdout",
     "output_type": "stream",
     "text": [
      "程式結束\n"
     ]
    }
   ],
   "source": [
    "while True:\n",
    "    try:\n",
    "        Number = int(input(\"請輸入1~1000內的數字（輸入0退出）：\"))\n",
    "        if Number == 0:\n",
    "            print(\"程式結束\")\n",
    "            break\n",
    "        if Number >= 1 and Number <= 1000:\n",
    "            if Number % 2 == 0:\n",
    "                print(\"這個數字是偶數\")\n",
    "            else:\n",
    "                print(\"這個數字是奇數\")\n",
    "        else:\n",
    "            print(\"輸入錯誤，請輸入1到1000之間的數字！\")\n",
    "    except ValueError:\n",
    "        print(\"輸入無效，請輸入一個整數！\")"
   ]
  },
  {
   "cell_type": "markdown",
   "metadata": {},
   "source": [
    "### 02 - 填字遊戲（Mad libs game）\n",
    "#### 使用者輸入任何字，它可以是名詞、形容詞、動詞、代名詞等。程式得到文字後，可自行排列，組成成一個模板故事。\n",
    "\n",
    "> 題目：輸入一數字判斷奇數或偶數<br>\n",
    "輸入(Input): 一連串依據說明輸入對應文字 <br>\n",
    "輸出(Output): 模板故事\n",
    "\n",
    "* 進階: 可以讓程式重複執行"
   ]
  },
  {
   "cell_type": "code",
   "execution_count": 4,
   "metadata": {},
   "outputs": [
    {
     "name": "stdin",
     "output_type": "stream",
     "text": [
      "請輸入課程期數（輸入0退出）： 457\n",
      "請輸入課程名稱： python ML\n",
      "請輸入姓名： Alan\n",
      "請輸入您的背景(科系或職業)： Eng\n",
      "請簡述對於本課程得期望(列出幾點修完課程想得到的技能/對自己未來的規劃)： AI\n"
     ]
    },
    {
     "name": "stdout",
     "output_type": "stream",
     "text": [
      "------------------------------------------------------------\n",
      "第457期 - python ML \n",
      "姓名： Alan ,\n",
      "學生背景： Eng\n",
      "============================================================\n",
      "Alan 修習完課程[ python ML ]後，\n",
      "結業成果獲得: AI 。\n",
      "Well Done.\n",
      "------------------------------------------------------------\n"
     ]
    },
    {
     "name": "stdin",
     "output_type": "stream",
     "text": [
      "請輸入課程期數（輸入0退出）： 0\n"
     ]
    },
    {
     "name": "stdout",
     "output_type": "stream",
     "text": [
      "程式結束\n"
     ]
    }
   ],
   "source": [
    "while True:\n",
    "    ClassNumberStr = str(input(\"請輸入課程期數（輸入0退出）：\"))\n",
    "    if ClassNumberStr == \"0\":\n",
    "        print(\"程式結束\")\n",
    "        break\n",
    "\n",
    "    ClassName = str(input(\"請輸入課程名稱：\"))\n",
    "    StudentName = str(input(\"請輸入姓名：\"))\n",
    "    StudentBackground = str(input(\"請輸入您的背景(科系或職業)：\"))\n",
    "    Target = str(input(\"請簡述對於本課程得期望(列出幾點修完課程想得到的技能/對自己未來的規劃)：\"))\n",
    "\n",
    "    print(\"------------------------------------------------------------\")\n",
    "    print(f\"第{ClassNumberStr}期 - {ClassName} \")\n",
    "    print(f\"姓名： {StudentName} ,\")\n",
    "    print(f\"學生背景： {StudentBackground}\")\n",
    "    print(\"============================================================\")\n",
    "    print(f\"{StudentName} 修習完課程[ {ClassName} ]後，\")\n",
    "    print(f\"結業成果獲得: {Target} 。\")\n",
    "    print(\"Well Done.\")\n",
    "    print(\"------------------------------------------------------------\")"
   ]
  },
  {
   "cell_type": "markdown",
   "metadata": {},
   "source": [
    "### 03 -  猜數字（Guess the number）\n",
    "#### 請使用者猜一個介於範圍（例如 1 到 100）之間的數字，\n",
    "#### 若使用者猜錯，就詢問他們想繼續玩還是退出；若使用者猜對，就顯示祝賀訊息，\n",
    "#### 並統計使用者的嘗試次數。如果使用者輸入的數字超出設定範圍，就顯示錯誤提示。\n",
    "\n",
    "![](data\\guess.png)\n"
   ]
  },
  {
   "cell_type": "code",
   "execution_count": 6,
   "metadata": {},
   "outputs": [
    {
     "name": "stdin",
     "output_type": "stream",
     "text": [
      "請猜整數數字範圍 0 < ? < 101 : 50\n"
     ]
    },
    {
     "name": "stdout",
     "output_type": "stream",
     "text": [
      "再小一點!! 您猜了 1 次\n"
     ]
    },
    {
     "name": "stdin",
     "output_type": "stream",
     "text": [
      "請猜整數數字範圍 0 < ? < 50 : 25\n"
     ]
    },
    {
     "name": "stdout",
     "output_type": "stream",
     "text": [
      "再小一點!! 您猜了 2 次\n"
     ]
    },
    {
     "name": "stdin",
     "output_type": "stream",
     "text": [
      "請猜整數數字範圍 0 < ? < 25 : 12\n"
     ]
    },
    {
     "name": "stdout",
     "output_type": "stream",
     "text": [
      "再大一點!! 您猜了 3 次\n"
     ]
    },
    {
     "name": "stdin",
     "output_type": "stream",
     "text": [
      "請猜整數數字範圍 12 < ? < 25 : 18\n"
     ]
    },
    {
     "name": "stdout",
     "output_type": "stream",
     "text": [
      "再小一點!! 您猜了 4 次\n"
     ]
    },
    {
     "name": "stdin",
     "output_type": "stream",
     "text": [
      "請猜整數數字範圍 12 < ? < 18 : 15\n"
     ]
    },
    {
     "name": "stdout",
     "output_type": "stream",
     "text": [
      "再小一點!! 您猜了 5 次\n"
     ]
    },
    {
     "name": "stdin",
     "output_type": "stream",
     "text": [
      "請猜整數數字範圍 12 < ? < 15 : 13\n"
     ]
    },
    {
     "name": "stdout",
     "output_type": "stream",
     "text": [
      "賓果! 猜對了, 答案是13\n"
     ]
    }
   ],
   "source": [
    "import random\n",
    "\n",
    "Min = 0\n",
    "Max = 101\n",
    "Answer = random.randint(Min+1, Max-1)\n",
    "\n",
    "i=1\n",
    "while True:\n",
    "    Guess = int(input(f\"請猜整數數字範圍 {Min} < ? < {Max} :\"))\n",
    "    if Guess == Answer:\n",
    "        print(f\"賓果! 猜對了, 答案是{Answer}\")\n",
    "        break\n",
    "    elif Answer > Guess:\n",
    "        print(f\"再大一點!! 您猜了 {i} 次\")\n",
    "        Min = Guess\n",
    "    else:\n",
    "        print(f\"再小一點!! 您猜了 {i} 次\")\n",
    "        Max = Guess\n",
    "    i+=1\n"
   ]
  },
  {
   "cell_type": "markdown",
   "metadata": {},
   "source": [
    "### 04 - 計算字數（Word count）\n",
    "#### 使用者輸入一段文字或讀取一檔案，程式統計字數。\n",
    "\n",
    "> 輸入(Input):我要成為寫程式的專家 <br>\n",
    "輸出(Output):你用了 10 個文字述說內心的想法\n",
    "\n",
    "#### 在特定的文章字串中搜尋輸入的特定字，請使用者輸入欲搜尋的文字，印出總共有幾個。<br>\n",
    ">輸入(Input):天<br>\n",
    "輸出(Output): 9\n",
    "\n",
    "* 進階:計算文章中去除標點符號後的字數，找出文章中出現最多的字與次數"
   ]
  },
  {
   "cell_type": "code",
   "execution_count": 1,
   "metadata": {},
   "outputs": [
    {
     "name": "stdin",
     "output_type": "stream",
     "text": [
      "請述說內心的想法: 測試看看\n"
     ]
    },
    {
     "name": "stdout",
     "output_type": "stream",
     "text": [
      "你用了 4 個文字述說內心的想法\n",
      "------------------------------------------\n"
     ]
    },
    {
     "name": "stdin",
     "output_type": "stream",
     "text": [
      "請輸入欲搜尋的一個字： 夜半無人私語時\n"
     ]
    },
    {
     "name": "stdout",
     "output_type": "stream",
     "text": [
      "------------------------------------------\n",
      "你要找的字是'夜', 出現了6次\n",
      "------------------------------------------\n",
      "目前出現最多次的字為'不',共出現14次\n",
      "文章總字數: 851字\n"
     ]
    }
   ],
   "source": [
    "s = '''漢皇重色思傾國，御宇多年求不得。\n",
    "\n",
    "楊家有女初長成，養在深閏人未識。\n",
    "\n",
    "天生麗質難自棄，一朝選在君王側。\n",
    "\n",
    "回眸一笑百媚生，六宮粉黛無顏色。\n",
    "\n",
    "春寒賜浴華清池，溫泉水滑洗凝脂；\n",
    "\n",
    "侍兒扶起嬌無力，始是新承恩澤時。\n",
    "\n",
    "雲鬢花顏金步搖，芙蓉帳暖度春宵；\n",
    "\n",
    "春宵苦短日高起，從此君王不早朝。\n",
    "\n",
    "承歡侍宴無閑暇，春從春遊夜專夜。\n",
    "\n",
    "後宮佳麗三千人，三千寵愛在一身。\n",
    "\n",
    "金屋妝成嬌侍夜，玉樓宴罷醉和春。\n",
    "\n",
    "姊妹弟兄皆列士，可憐光彩生門戶。\n",
    "\n",
    "遂令天下父母心，不重生男重生女。\n",
    "\n",
    "驪宮高處入青雲，仙樂風飄處處聞。\n",
    "\n",
    "緩歌慢舞凝絲竹，盡日君王看不足。\n",
    "\n",
    "漁陽鼙鼓動地來，驚破霓裳羽衣曲。\n",
    "\n",
    "九重城闕煙塵生，千乘萬騎西南行。\n",
    "\n",
    "翠華搖搖行復止，西出都門百餘里；\n",
    "\n",
    "六軍不發無奈何？宛轉蛾眉馬前死。\n",
    "\n",
    "花鈿委地無人收，翠翹金雀玉搔頭。\n",
    "\n",
    "君王掩面救不得，回看血淚相和流。\n",
    "\n",
    "黃埃散漫風蕭索，雲棧縈紆登劍閣。\n",
    "\n",
    "峨嵋山下少人行，旌旗無光日色薄。\n",
    "\n",
    "蜀江水碧蜀山青，聖主朝朝暮暮情。\n",
    "\n",
    "行宮見月傷心色，夜雨聞鈴腸斷聲。\n",
    "\n",
    "天旋地轉迴龍馭，到此躊躇不能去。\n",
    "\n",
    "馬嵬坡下泥土中，不見玉顏空死處。\n",
    "\n",
    "君臣相顧盡霑衣，東望都門信馬歸。\n",
    "\n",
    "歸來池苑皆依舊，太液芙蓉未央柳；\n",
    "\n",
    "芙蓉如面柳如眉，對此如何不淚垂？\n",
    "\n",
    "春風桃李花開日，秋雨梧桐葉落時。\n",
    "\n",
    "西宮南內多秋草，落葉滿階紅不掃。\n",
    "\n",
    "梨園子弟白髮新，椒房阿監青娥老。\n",
    "\n",
    "夕殿螢飛思悄然，孤燈挑盡未成眠。\n",
    "\n",
    "遲遲鐘鼓初長夜，耿耿星河欲曙天。\n",
    "\n",
    "鴛鴦瓦冷霜華重，翡翠衾寒誰與共？\n",
    "\n",
    "悠悠生死別經年，魂魄不曾來入夢。\n",
    "\n",
    "臨邛道士鴻都客，能以精誠致魂魄；\n",
    "\n",
    "為感君王輾轉思，遂教方士殷勤覓。\n",
    "\n",
    "排空馭氣奔如電，升天入地求之遍；\n",
    "\n",
    "上窮碧落下黃泉，兩處茫茫皆不見。\n",
    "\n",
    "忽聞海上有仙山，山在虛無縹緲間。\n",
    "\n",
    "樓閣玲瓏五雲起，其中綽約多仙子。\n",
    "\n",
    "中有一人字太真，雪膚花貌參差是。\n",
    "\n",
    "金闕西廂叩玉扃，轉教小玉報雙成。\n",
    "\n",
    "聞道漢家天子使，九華帳裡夢魂驚；\n",
    "\n",
    "攬衣推枕起徘徊，珠箔銀屏迤邐開。\n",
    "\n",
    "雲鬢半偏新睡覺，花冠不整下堂來。\n",
    "\n",
    "風吹仙袂飄飄舉，猶似霓裳羽衣舞。\n",
    "\n",
    "玉容寂寞淚闌干，梨花一枝春帶雨。\n",
    "\n",
    "含情凝睇謝君王，一別音容兩渺茫。\n",
    "\n",
    "昭陽殿裡恩愛絕，蓬萊宮中日月長。\n",
    "\n",
    "回頭下望人寰處，不見長安見塵霧。\n",
    "\n",
    "唯將舊物表深情，鈿合金釵寄將去。\n",
    "\n",
    "釵留一股合一扇，釵擘黃金合分鈿。\n",
    "\n",
    "但教心似金鈿堅，天上人間會相見。\n",
    "\n",
    "臨別殷勤重寄詞，詞中有誓兩心知，\n",
    "\n",
    "七月七日長生殿，夜半無人私語時：「\n",
    "\n",
    "在天願作比翼鳥，在地願為連理枝。」\n",
    "\n",
    "天長地久有時盡，此恨綿綿無絕期。\n",
    "'''\n",
    "\n",
    "\n",
    "\n",
    "word = input(\"請述說內心的想法:\")\n",
    "print(\"你用了 %d 個文字述說內心的想法\"%(len(word)))\n",
    "print(\"------------------------------------------\")\n",
    "# 請使用者輸入一文字\n",
    "SearchWord = str(input(\"請輸入欲搜尋的一個字：\")[0])\n",
    "# 計算該文字在文章出現次數\n",
    "SearchWordCount = 0\n",
    "MaxWord = \"\"\n",
    "MaxWordCount = 0\n",
    "\n",
    "NewPoem = s.replace(\"，\",\"\").replace(\"。\",\"\").replace(\"「\",\"\").replace(\"」\",\"\").replace(\" \",\"\").replace(\"\\n\",\"\")\n",
    "\n",
    "for Char in NewPoem:\n",
    "    # print(astr)\n",
    "    if Char == SearchWord:\n",
    "        SearchWordCount+=1\n",
    "    CharCount = NewPoem.count(Char)\n",
    "    if CharCount > MaxWordCount:\n",
    "        MaxWordCount = CharCount\n",
    "        MaxWord = Char\n",
    "    # 如果 現在這個字出現的次數(act) 大於 目前已知出現最多次字的次數\n",
    "    # 就讓 現在這個字出現的次數 成為 目前已知出現最多次的字的次數\n",
    "    # 還要記錄 現在這個字(astr) 到 目前已知出現最多次的字\n",
    "# 列印出現次數\n",
    "\n",
    "print(\"------------------------------------------\")\n",
    "print(f\"你要找的字是'{SearchWord}', 出現了{SearchWordCount}次\")\n",
    "print(\"------------------------------------------\")\n",
    "# 把文字中 '。，\\n；：？「」'的標點符號去除\n",
    "# 目前已知出現最多次的字的次數\n",
    "# 目前已知出現最多次的字\n",
    "print(f\"目前出現最多次的字為'{MaxWord}',共出現{MaxWordCount}次\")\n",
    "print(f'文章總字數: {len(NewPoem)}字')"
   ]
  },
  {
   "cell_type": "markdown",
   "metadata": {},
   "source": [
    "### 05 - Email 域名判斷器（Email slicer）\n",
    "#### 請用戶輸入 Email 地址，然後判斷它是自定義域名還是熱門域名。\n",
    "\n",
    "> 題目：<br>\n",
    "輸入(Input):shelly200318@hotmail.com.tw  <br>\n",
    "輸出(Output):Your username is 'shelly200318' and your domain name is 'hotmail.com.tw' <br>\n",
    "\n",
    "\n",
    "* 進階：把常用的信箱存成字典，加入判斷是否為\n",
    ">輸入(Input):mary.jane@gmail.com  <br>\n",
    "輸出(Output):這是註冊在 Google 之下的 Email 地址 <br>\n",
    "輸入(Input):matt.pan@myfantasy.com  <br>\n",
    "輸出(Output):這是在 myfantasy 之下自定義域\n",
    "\n"
   ]
  },
  {
   "cell_type": "code",
   "execution_count": 2,
   "metadata": {},
   "outputs": [
    {
     "name": "stdin",
     "output_type": "stream",
     "text": [
      "What is your email address?:  alan@gmail.com\n"
     ]
    },
    {
     "name": "stdout",
     "output_type": "stream",
     "text": [
      "Your username is 'alan' and your domain name is 'gmail.com'\n",
      "這是註冊在 Google 之下的 Email 地址'\n"
     ]
    }
   ],
   "source": [
    "# Get user email address\n",
    "while True:\n",
    "    Email = input(\"What is your email address?: \").strip()\n",
    "    if \"@\" in Email:\n",
    "        break\n",
    "    else:\n",
    "        print(\"Your email format is incorrect, please input again !\")\n",
    "\n",
    "\n",
    "# Slice out the user name\n",
    "Username = Email.split(\"@\")[0]\n",
    "# Slice the domain name\n",
    "Domainname = Email.split(\"@\")[1]\n",
    "\n",
    "# Format message\n",
    "output = f\"Your username is '{Username}' and your domain name is '{Domainname}'\"\n",
    "\n",
    "# Display output message\n",
    "print(output)\n",
    "\n",
    "domain = {'gmail.com': 'Google', 'yahoo.com.tw': 'Yahoo', 'ntu.edu.tw': '臺大', 'hotmail.com.tw': 'Hotmail',\n",
    "          'hotmail.com': 'Hotmail'}\n",
    "if Domainname in domain:\n",
    "    output = f\"這是註冊在 {domain.get(Domainname)} 之下的 Email 地址'\"\n",
    "else:\n",
    "    output = f\"這是在 {Domainname} 之下自定義域\"\n",
    "\n",
    "print(output)"
   ]
  },
  {
   "cell_type": "markdown",
   "metadata": {},
   "source": [
    "### 06 - 及格名單（Pass list）\n",
    "#### 請使用集合功能來完成各科級名單的判斷\n",
    "```\n",
    "米花市帝丹小學一年级B班正舉辦期中考試\n",
    "數學及格的有：柯南、灰原、步美、美環、光彦\n",
    "英文及格的有：柯南、灰原、丸尾、野口、步美\n",
    "以上已列出全班所有人\n",
    "```\n",
    "\n",
    ">請分別列出<br>\n",
    "數學及格但英文不及格的同學名單<br>\n",
    "數學不及格但英文及格的同學名單<br>\n",
    "兩者皆及格名單<br>\n",
    "* Hint:差集(減法)、交集\n"
   ]
  },
  {
   "cell_type": "code",
   "execution_count": 1,
   "metadata": {},
   "outputs": [
    {
     "name": "stdout",
     "output_type": "stream",
     "text": [
      "數學及格但英文不及格的同學名單: {'柯南', '步美', '灰原'}\n",
      "數學不及格但英文及格的同學名單: {'光彦', '美環'}\n",
      "兩者皆及格名單: {'野口', '丸尾'}\n"
     ]
    }
   ],
   "source": [
    "MathPass={'柯南','灰原','步美','美環','光彦'}\n",
    "EngPass={'柯南','灰原','丸尾','野口','步美'}\n",
    "\n",
    "BothPass = MathPass & EngPass\n",
    "MathPassEngFail = MathPass - EngPass\n",
    "EngPassMathFail = EngPass - MathPass\n",
    "\n",
    "print(f\"數學及格但英文不及格的同學名單: {BothPass}\")\n",
    "print(f\"數學不及格但英文及格的同學名單: {MathPassEngFail}\")\n",
    "print(f\"兩者皆及格名單: {EngPassMathFail}\")\n"
   ]
  },
  {
   "cell_type": "markdown",
   "metadata": {},
   "source": [
    "### 07 - 查詢路徑下所有檔案\n",
    "#### 請使用者輸入路徑，自動抓取路徑下所有檔案名稱\n",
    "\n",
    ">輸入(Input):data\\testfile 或 D:\\code\\ML_202105\\data\\testfile  <br>\n",
    "輸出(Output):\n",
    "```\n",
    "I'm a directory: file1\n",
    "I'm a directory: file2\n",
    "I'm a File: hw_07945001.txt\n",
    "I'm a File: hw_079450010.doc\n",
    "I'm a File: hw_07945002.txt\n",
    "I'm a File: hw_07945003.txt\n",
    "I'm a File: hw_07945004.txt\n",
    "I'm a File: hw_07945005.txt\n",
    "I'm a File: hw_07945007.txt\n",
    "I'm a File: hw_07945008.txt\n",
    "I'm a File: hw_07945009.txt\n",
    "```\n",
    "\n",
    "* 進階: 把file的學號抓出來，另存成一個新的csv檔"
   ]
  },
  {
   "cell_type": "code",
   "execution_count": 2,
   "metadata": {},
   "outputs": [
    {
     "name": "stdin",
     "output_type": "stream",
     "text": [
      "請輸入要查詢的路徑: C:\\Users\\alan.huang\\JupyterNB\\Unit01\\testfile\n"
     ]
    },
    {
     "name": "stdout",
     "output_type": "stream",
     "text": [
      "I'm a directory: file1\n",
      "I'm a directory: file2\n",
      "I'm a File: hw_07945001.txt\n",
      "I'm a File: hw_079450010.doc\n",
      "I'm a File: hw_07945002.txt\n",
      "I'm a File: hw_07945003.txt\n",
      "I'm a File: hw_07945004.txt\n",
      "I'm a File: hw_07945005.txt\n",
      "I'm a File: hw_07945007.txt\n",
      "I'm a File: hw_07945008.txt\n",
      "I'm a File: hw_07945009.txt\n",
      "I'm a File: StudentNO.csv\n",
      "'StudentNO.csv' 存檔成功!\n"
     ]
    }
   ],
   "source": [
    "import os\n",
    "import csv\n",
    "\n",
    "# 請使用者輸入或指定要查詢的路徑\n",
    "UserPath = input(\"請輸入要查詢的路徑:\")\n",
    "# 列出指定路徑底下所有檔案(包含資料夾)\n",
    "allFileList = os.listdir(UserPath)\n",
    "StudentNO = []\n",
    "# 逐一查詢檔案清單\n",
    "for file in allFileList:\n",
    "#   這邊也可以視情況，做檔案的操作(複製、讀取...等)\n",
    "#   使用isdir檢查是否為目錄\n",
    "#   使用join的方式把路徑與檔案名稱串起來(等同filePath+fileName)\n",
    "    if os.path.isdir(os.path.join(UserPath,file)):\n",
    "        print(\"I'm a directory: \" + file)\n",
    "    #   使用isfile判斷是否為檔案\n",
    "    elif os.path.isfile(os.path.join(UserPath,file)):\n",
    "        print(\"I'm a File: \" + file)\n",
    "        if \"hw_\" in file:\n",
    "            StudentNO.append(file.replace(\"hw_\", \"\").split(\".\")[0])\n",
    "\n",
    "# 開啟一個 CSV 檔案並寫入資料\n",
    "with open(f'{UserPath}\\StudentNO.csv', mode='w', newline='', encoding='utf-8') as file:\n",
    "    writer = csv.writer(file)\n",
    "\n",
    "    # 獨立一列\n",
    "    for student in StudentNO:\n",
    "        writer.writerow([student])\n",
    "\n",
    "    # 同一列\n",
    "    # writer.writerow(StudentNO)\n",
    "print(\"'StudentNO.csv' 存檔成功!\")\n"
   ]
  },
  {
   "cell_type": "markdown",
   "metadata": {},
   "source": [
    "### 08 - 資料夾管理(shutil)\n",
    "#### 說明 ####\n",
    "\n",
    "```\n",
    "在目前所在的目錄下建立一files資料夾\n",
    "\n",
    "令使用者輸入一數字N，並在files資料夾中建立f1, f2… fN等N個資料夾後列出files的資料夾內容\n",
    "\n",
    "將files資料夾裡的f1資料夾重新命名成folder1後再列出files的資料夾內容\n",
    "\n",
    "移除files資料夾中的folder1後再列出files的資料夾內容\n",
    "\n",
    "最後移除files資料夾\n",
    "※須先退出files資料夾(os.chdir(../)) ![image.png](attachment:image.png)\n",
    "```\n"
   ]
  },
  {
   "cell_type": "code",
   "execution_count": 3,
   "metadata": {},
   "outputs": [
    {
     "name": "stdin",
     "output_type": "stream",
     "text": [
      "請問要建立多少資料夾? 請輸入數字: 5\n"
     ]
    },
    {
     "name": "stdout",
     "output_type": "stream",
     "text": [
      "目前所有資料夾:\n",
      "f1\n",
      "f2\n",
      "f3\n",
      "f4\n",
      "f5\n",
      "f1資料夾重新命名成folder1:\n",
      "f2\n",
      "f3\n",
      "f4\n",
      "f5\n",
      "folder1\n",
      "移除files資料夾中的folder1:\n",
      "f2\n",
      "f3\n",
      "f4\n",
      "f5\n"
     ]
    }
   ],
   "source": [
    "import os\n",
    "import shutil\n",
    "\n",
    "# 在目前所在的目錄下建立一files資料夾\n",
    "if os.path.exists('files'):\n",
    "    shutil.rmtree('files')\n",
    "os.mkdir('files')\n",
    "\n",
    "# FolderName = []\n",
    "# 令使用者輸入一數字N，並在files資料夾中建立f1, f2… fN等N個資料夾後列出files的資料夾內容\n",
    "N = int(input(\"請問要建立多少資料夾? 請輸入數字:\"))\n",
    "for i in range(N):\n",
    "    FolderPath = os.path.join('files',f\"f{i+1}\")\n",
    "    # FolderName.append(f\"f{N}\")\n",
    "    os.mkdir(FolderPath)\n",
    "print(\"目前所有資料夾:\")\n",
    "# 列出指定路徑底下所有檔案(包含資料夾)\n",
    "allFileList = os.listdir('files')\n",
    "for file in allFileList:\n",
    "    print(file)\n",
    "\n",
    "\n",
    "OldPath = os.path.join('files',\"f1\")\n",
    "NewPath = os.path.join('files',\"folder1\")\n",
    "# 將files資料夾裡的f1資料夾重新命名成folder1後再列出files的資料夾內容\n",
    "os.rename(OldPath, NewPath)\n",
    "print(\"f1資料夾重新命名成folder1:\")\n",
    "# 列出指定路徑底下所有檔案(包含資料夾)\n",
    "allFileList = os.listdir('files')\n",
    "for file in allFileList:\n",
    "    print(file)\n",
    "\n",
    "# 移除files資料夾中的folder1後再列出files的資料夾內容\n",
    "FolderPath = os.path.join('files',f\"folder1\")\n",
    "# 刪除整個資料夾及其內容\n",
    "shutil.rmtree(FolderPath)\n",
    "print(\"移除files資料夾中的folder1:\")\n",
    "allFileList = os.listdir('files')\n",
    "for file in allFileList:\n",
    "    print(file)\n",
    "# 最後移除files資料夾\n",
    "# 刪除整個資料夾及其內容\n",
    "shutil.rmtree(\"files\")\n",
    "# ※須先退出files資料夾(os.chdir(../))\n",
    "\n"
   ]
  },
  {
   "cell_type": "markdown",
   "metadata": {},
   "source": [
    "### 09 - 回文判斷（Is a palindrome）\n",
    "#### 請使用者輸入單字，判斷它是否為回文，也就是該單字前後對稱，例如 madam，從前讀到後或是從後讀到前的順序都是 madam。\n",
    "\n",
    "> 題目：<br>\n",
    "輸入(Input): 雨 滋 春 樹 碧 連 天  天 連 碧 樹 春 滋 雨 <br>\n",
    "輸出(Output):The text you have entered is a palindrome!<br>\n",
    "輸入(Input): 資工訓練班 <br>\n",
    "輸出(Output):The text you have entered is not a palindrome.\n"
   ]
  },
  {
   "cell_type": "code",
   "execution_count": 1,
   "metadata": {},
   "outputs": [
    {
     "name": "stdout",
     "output_type": "stream",
     "text": [
      "\n",
      "Palindrome checker\n"
     ]
    },
    {
     "name": "stdin",
     "output_type": "stream",
     "text": [
      "\n",
      "Please enter a word, phrase, or a sentence \n",
      "to check if it is a palindrome:  雨 滋 春 樹 碧 連 天  天 連 碧 樹 春 滋 雨\n"
     ]
    },
    {
     "name": "stdout",
     "output_type": "stream",
     "text": [
      "The text you have entered is a palindrome!\n"
     ]
    }
   ],
   "source": [
    "def convertInputString():\n",
    "    #請使用者輸入一串字串，先轉換字串為統一小寫\n",
    "    rawInput = input(\"\\nPlease enter a word, phrase, or a sentence \\nto check if it is a palindrome: \")\n",
    "    return rawInput.lower()\n",
    "\n",
    "def stripAnalphabetics(dirtyList):\n",
    "    analphabeticList = [\" \", \"-\", \".\", \",\", \":\", \";\", \"!\", \"?\", \"'\", \"\\\"\"]\n",
    "    #去除相關標點符號\n",
    "    # 建立轉換表，將要移除的字元對應為 None\n",
    "    remove_chars = ''.join(analphabeticList)\n",
    "    translation_table = str.maketrans('', '', remove_chars)\n",
    "\n",
    "    # 移除指定字元\n",
    "    cleaned_text = dirtyList.translate(translation_table)\n",
    "    return cleaned_text\n",
    "\n",
    "def runPalindromeCheck(straightList):\n",
    "    reversedList = straightList[::-1] # 反轉\n",
    "    if straightList == reversedList:\n",
    "        return \"The text you have entered is a palindrome!\"\n",
    "    else:\n",
    "        return \"The text you have entered is not a palindrome.\"\n",
    "\n",
    "def PalindromeChecker():\n",
    "    print(\"\\nPalindrome checker\")\n",
    "    LowerStr = convertInputString()\n",
    "    CleanedStr = stripAnalphabetics(LowerStr)\n",
    "    Answer = runPalindromeCheck(CleanedStr)\n",
    "    print(Answer)\n",
    "\n",
    "\n",
    "PalindromeChecker()"
   ]
  },
  {
   "cell_type": "markdown",
   "metadata": {},
   "source": [
    "### 10 - 總成績計算\n",
    "#### 說明 ####\n",
    "\n",
    "請讀取 `data/english_list.csv`與`data/math_list.csv`檔案(`utf-8`)後，將每位同學的英文與數學成績加總起來，並將檔案寫入至 `./Score.csv`中，編碼成`utf-8`<br>\n",
    "最後列印出每位學生姓名與加總後的分數<br>\n",
    "<a href=\"data\\english_list.csv\">英文成績下載</a><br>\n",
    "<a href=\"data\\math_list.csv\">數學成績下載</a><br>\n",
    "\n",
    "#### Input Format ####\n",
    "\n",
    "<br>\n",
    "csv資料(英文成績)<br>\n",
    "csv資料(數學成績)<br>\n",
    "<br>\n",
    "\n",
    "#### Output Format ####\n",
    "\n",
    "<br>\n",
    "\n",
    "![](data\\05.JPG)<br>\n",
    "<br>\n",
    "<br>\n",
    "(圖片參考用 以文字敘述為準)<br>\n",
    "\n",
    "\n",
    "\n",
    "\n",
    "#### Sample Input 1####\n",
    "\n",
    "\n",
    "\n",
    "```\n",
    "無標準輸入，只有檔案輸入\n",
    "```\n",
    "\n",
    "\n",
    "\n",
    "#### Sample Output 1####\n",
    "\n",
    "\n",
    "```\n",
    "廖冠霖 142\n",
    "王力中 124\n",
    "張平舜 108\n",
    ".\n",
    ".\n",
    ".\n",
    ".\n",
    ".\n",
    "陳姿茜 77\n",
    "涂珮瑜 134\n",
    "夏明哲 111\n",
    "\n",
    "```\n",
    "\n",
    "\n",
    "#### Hint ####\n",
    "\n",
    "\n",
    "\n",
    "```\n",
    "None\n",
    "```\n"
   ]
  },
  {
   "cell_type": "code",
   "execution_count": 2,
   "metadata": {},
   "outputs": [
    {
     "name": "stdout",
     "output_type": "stream",
     "text": [
      "'Score.csv' 存檔成功!\n"
     ]
    }
   ],
   "source": [
    "# 請讀取 data/english_list.csv與data/math_list.csv檔案(utf-8)後，\n",
    "# 將每位同學的英文與數學成績加總起來，並將檔案寫入至 ./Score.csv中，編碼成utf-8\n",
    "# 最後列印出每位學生姓名與加總後的分數\n",
    "\n",
    "import os\n",
    "import csv\n",
    "import pandas as pd\n",
    "import numpy as np\n",
    "\n",
    "MathFileName = \"math_list.csv\"\n",
    "EnglishFileName = \"english_list.csv\"\n",
    "MathPath = os.path.join(\"data\", f\"{MathFileName}\")\n",
    "EnglishPath = os.path.join(\"data\", f\"{EnglishFileName}\")\n",
    "\n",
    "\n",
    "Mathdf = pd.read_csv(MathPath, low_memory=False)  # Pandas 會一次性讀取整個檔案，而不是分批讀取，有助於更準確地推斷數據型別\n",
    "Englishdf = pd.read_csv(EnglishPath, low_memory=False)\n",
    "# 確保 UnBlendedCost 欄位為數值型態\n",
    "Mathdf[\"數學\"] = pd.to_numeric(Mathdf[\"數學\"], errors='coerce')  # 轉換為數值，無法轉換的設為 NaN\n",
    "Mathdf[\"英文\"] = pd.to_numeric(Englishdf[\"英文\"], errors='coerce')\n",
    "# 列出所有數值\n",
    "MathScoreList = Mathdf[\"數學\"].dropna().tolist()\n",
    "EnglishScoreList = Mathdf[\"英文\"].dropna().tolist()\n",
    "NameList = Mathdf[\"姓名\"].dropna().tolist()\n",
    "# 轉換為 NumPy 陣列\n",
    "ArrMathScore = np.array(MathScoreList)\n",
    "ArrEnglishScore = np.array(EnglishScoreList)\n",
    "# 計算總和\n",
    "ArrSumScore = ArrMathScore + ArrEnglishScore\n",
    "SumScoreList = ArrSumScore.tolist()\n",
    "\n",
    "# 建立新的 DataFrame\n",
    "Resultdf = pd.DataFrame({\n",
    "    \"姓名\": NameList,\n",
    "    \"總分\": SumScoreList\n",
    "})\n",
    "\n",
    "# 寫入 CSV 檔案\n",
    "Resultdf.to_csv(\"Score.csv\", index=False, encoding=\"utf-8-sig\")\n",
    "print(\"'Score.csv' 存檔成功!\")"
   ]
  },
  {
   "cell_type": "code",
   "execution_count": null,
   "metadata": {},
   "outputs": [],
   "source": []
  }
 ],
 "metadata": {
  "kernelspec": {
   "display_name": "Python [conda env:base] *",
   "language": "python",
   "name": "conda-base-py"
  },
  "language_info": {
   "codemirror_mode": {
    "name": "ipython",
    "version": 3
   },
   "file_extension": ".py",
   "mimetype": "text/x-python",
   "name": "python",
   "nbconvert_exporter": "python",
   "pygments_lexer": "ipython3",
   "version": "3.13.5"
  }
 },
 "nbformat": 4,
 "nbformat_minor": 4
}

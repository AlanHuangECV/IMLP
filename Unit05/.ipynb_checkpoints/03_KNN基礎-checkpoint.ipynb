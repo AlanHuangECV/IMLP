{
 "cells": [
  {
   "cell_type": "markdown",
   "metadata": {},
   "source": [
    "## KNN電影分類特徵值的項目與評分\n",
    "### 題目：\n",
    "![](images/knn.png)\n",
    "### 答案：\n",
    "![output](images/knn_.png)"
   ]
  },
  {
   "cell_type": "code",
   "execution_count": 2,
   "metadata": {},
   "outputs": [
    {
     "name": "stdout",
     "output_type": "stream",
     "text": [
      "與玩命關頭最相似的電影 : 雙子殺手\n",
      "相似度值 : 6\n",
      "影片 : 復仇者聯盟, 相似度 : 51\n",
      "影片 : 決戰中途島, 相似度 : 75\n",
      "影片 : 冰雪奇緣, 相似度 : 262\n",
      "影片 : 雙子殺手, 相似度 : 6\n"
     ]
    }
   ],
   "source": [
    "import math\n",
    "\n",
    "TheFilm = [5, 7, 8, 10, 2]  # 玩命關頭特徵值\n",
    "film_titles = [  # 比較影片片名\n",
    "    '復仇者聯盟',\n",
    "    '決戰中途島',\n",
    "    '冰雪奇緣',\n",
    "    '雙子殺手',\n",
    "]\n",
    "All_film_features = [  # 比較影片特徵值\n",
    "    [2, 8, 8, 5, 6],\n",
    "    [5, 6, 9, 2, 5],\n",
    "    [8, 2, 0, 0, 10],\n",
    "    [5, 8, 8, 8, 3],\n",
    "]\n",
    "\n",
    "# 儲存影片相似度值\n",
    "ListDist = []\n",
    "\n",
    "# 計算各電影相似程度\n",
    "for i, features in enumerate(All_film_features):\n",
    "    distance = 0\n",
    "    for j in range(len(features)):\n",
    "        distance += (TheFilm[j] - features[j])**2 # 目標電影的每項屬性去跟所有其他電影比較距離\n",
    "        # print(f\"({film_titles[i]}):distance({distance}) =+ TheFilm[j]({TheFilm[j]})-features[j]({features[j]})\")\n",
    "    ListDist.append(distance)\n",
    "\n",
    "\n",
    "\n",
    "# 求最小值\n",
    "MinDist = min(ListDist)\n",
    "# 最小值的索引 (第幾個)\n",
    "TargetNumber = ListDist.index(MinDist)\n",
    "\n",
    "print(f\"與玩命關頭最相似的電影 : {film_titles[TargetNumber]}\")\n",
    "print(f\"相似度值 : {MinDist}\")\n",
    "# 印出玩命關頭與其他所有電影的相似程度\n",
    "for i in range(len(ListDist)):\n",
    "    print(f\"影片 : {film_titles[i]}, 相似度 : {ListDist[i]}\")\n",
    "\n"
   ]
  },
  {
   "cell_type": "code",
   "execution_count": null,
   "metadata": {},
   "outputs": [],
   "source": []
  },
  {
   "cell_type": "code",
   "execution_count": null,
   "metadata": {},
   "outputs": [],
   "source": []
  }
 ],
 "metadata": {
  "kernelspec": {
   "display_name": "Python [conda env:base] *",
   "language": "python",
   "name": "conda-base-py"
  },
  "language_info": {
   "codemirror_mode": {
    "name": "ipython",
    "version": 3
   },
   "file_extension": ".py",
   "mimetype": "text/x-python",
   "name": "python",
   "nbconvert_exporter": "python",
   "pygments_lexer": "ipython3",
   "version": "3.13.5"
  }
 },
 "nbformat": 4,
 "nbformat_minor": 4
}

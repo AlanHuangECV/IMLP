{
 "cells": [
  {
   "cell_type": "markdown",
   "metadata": {},
   "source": [
    "# NumPy 和陣列導向的程式設計\n",
    "\n",
    "`NumPy` 可以說是 Python 中最最標準的科學計算、數據分析套件。也因為 `NumPy` 的出現, 讓 Python 有了非常好的數據分析基礎, 一直到現在成為數據分析覇主。"
   ]
  },
  {
   "cell_type": "code",
   "execution_count": 11,
   "metadata": {},
   "outputs": [],
   "source": []
  },
  {
   "cell_type": "markdown",
   "metadata": {},
   "source": [
    "## 1. 陣列導向 101\n",
    "\n",
    "科學計算一個很核心的概念叫 \"array oriented\" 的寫法。Array 是 `numpy` 標準的資料結構, 和 list 很像, 但就差了那麼一點點。而這一點點讓我們在計算上是無比的方便。"
   ]
  },
  {
   "cell_type": "markdown",
   "metadata": {},
   "source": [
    "### 【暖身】 計算平均\n",
    "\n",
    "某位同學期中考各科成績如下, 請幫他計算成績。\n",
    "\n",
    "    grades = [77, 85, 56, 90, 66]\n",
    "    \n",
    "請計算平均。"
   ]
  },
  {
   "cell_type": "code",
   "execution_count": 4,
   "metadata": {},
   "outputs": [
    {
     "name": "stdout",
     "output_type": "stream",
     "text": [
      "平均成績為: 74.8\n"
     ]
    }
   ],
   "source": [
    "import numpy as np\n",
    "grades = [77, 85, 56, 90, 66]\n",
    "average = np.mean(grades)\n",
    "\n",
    "print(f\"平均成績為: {average}\")"
   ]
  },
  {
   "cell_type": "markdown",
   "metadata": {},
   "source": [
    "### 【示範】陣列導向"
   ]
  },
  {
   "cell_type": "code",
   "execution_count": 6,
   "metadata": {},
   "outputs": [
    {
     "name": "stdout",
     "output_type": "stream",
     "text": [
      "平均值: 74.8\n",
      "最大值: 90\n",
      "最小值: 56\n",
      "標準差: 12.416118556135006\n",
      "中位數: 77.0\n"
     ]
    }
   ],
   "source": [
    "import numpy as np\n",
    "\n",
    "grades = [77, 85, 56, 90, 66]\n",
    "\n",
    "grades_array = np.array(grades)\n",
    "\n",
    "# 平均值\n",
    "mean = np.mean(grades_array)\n",
    "\n",
    "# 最大值\n",
    "maximum = np.max(grades_array)\n",
    "\n",
    "# 最小值\n",
    "minimum = np.min(grades_array)\n",
    "\n",
    "# 標準差\n",
    "std_dev = np.std(grades_array)\n",
    "\n",
    "# 中位數\n",
    "median = np.median(grades_array)\n",
    "\n",
    "print(\"平均值:\", mean)\n",
    "print(\"最大值:\", maximum)\n",
    "print(\"最小值:\", minimum)\n",
    "print(\"標準差:\", std_dev)\n",
    "print(\"中位數:\", median)"
   ]
  },
  {
   "cell_type": "markdown",
   "metadata": {},
   "source": [
    "最大值"
   ]
  },
  {
   "cell_type": "code",
   "execution_count": 7,
   "metadata": {},
   "outputs": [
    {
     "name": "stdout",
     "output_type": "stream",
     "text": [
      "平均值: 74.8\n",
      "最大值: 90\n",
      "最小值: 56\n",
      "標準差: 12.416118556135006\n",
      "中位數: 77.0\n"
     ]
    }
   ],
   "source": [
    "import numpy as np\n",
    "\n",
    "grades = [77, 85, 56, 90, 66]\n",
    "\n",
    "grades_array = np.array(grades)\n",
    "\n",
    "# 平均值\n",
    "mean = np.mean(grades_array)\n",
    "\n",
    "# 最大值\n",
    "maximum = np.max(grades_array)\n",
    "\n",
    "# 最小值\n",
    "minimum = np.min(grades_array)\n",
    "\n",
    "# 標準差\n",
    "std_dev = np.std(grades_array)\n",
    "\n",
    "# 中位數\n",
    "median = np.median(grades_array)\n",
    "\n",
    "print(\"平均值:\", mean)\n",
    "print(\"最大值:\", maximum)\n",
    "print(\"最小值:\", minimum)\n",
    "print(\"標準差:\", std_dev)\n",
    "print(\"中位數:\", median)"
   ]
  },
  {
   "cell_type": "markdown",
   "metadata": {},
   "source": [
    "標準差"
   ]
  },
  {
   "cell_type": "code",
   "execution_count": 9,
   "metadata": {},
   "outputs": [
    {
     "name": "stdout",
     "output_type": "stream",
     "text": [
      "平均值: 74.8\n",
      "最大值: 90\n",
      "最小值: 56\n",
      "標準差: 12.416118556135006\n",
      "中位數: 77.0\n",
      "變異數: 154.16\n",
      "總和: 374\n",
      "25百分位數: 66.0\n",
      "50百分位數 (中位數): 77.0\n",
      "75百分位數: 85.0\n",
      "最大最小差距 (ptp): 34\n"
     ]
    }
   ],
   "source": [
    "import numpy as np\n",
    "\n",
    "grades = [77, 85, 56, 90, 66]\n",
    "grades_array = np.array(grades)\n",
    "\n",
    "# 平均值\n",
    "mean = np.mean(grades_array)\n",
    "\n",
    "# 最大值\n",
    "maximum = np.max(grades_array)\n",
    "\n",
    "# 最小值\n",
    "minimum = np.min(grades_array)\n",
    "\n",
    "# 標準差\n",
    "std_dev = np.std(grades_array)\n",
    "\n",
    "# 中位數\n",
    "median = np.median(grades_array)\n",
    "\n",
    "# 變異數\n",
    "variance = np.var(grades_array)\n",
    "\n",
    "# 總和\n",
    "total = np.sum(grades_array)\n",
    "\n",
    "# 百分位數\n",
    "percentile_25 = np.percentile(grades_array, 25)\n",
    "percentile_50 = np.percentile(grades_array, 50)\n",
    "percentile_75 = np.percentile(grades_array, 75)\n",
    "\n",
    "# 最大值與最小值的差距\n",
    "ptp_range = np.ptp(grades_array)\n",
    "\n",
    "# 輸出結果\n",
    "print(\"平均值:\", mean)\n",
    "print(\"最大值:\", maximum)\n",
    "print(\"最小值:\", minimum)\n",
    "print(\"標準差:\", std_dev)\n",
    "print(\"中位數:\", median)\n",
    "print(\"變異數:\", variance)\n",
    "print(\"總和:\", total)\n",
    "print(\"25百分位數:\", percentile_25)\n",
    "print(\"50百分位數 (中位數):\", percentile_50)\n",
    "print(\"75百分位數:\", percentile_75)\n",
    "print(\"最大最小差距 (ptp):\", ptp_range)"
   ]
  },
  {
   "cell_type": "markdown",
   "metadata": {},
   "source": [
    "### 【暖身】 換算匯率\n",
    "\n",
    "假設今天我想查查號稱 Pentax 三公主的 31mm, 43mm, 77mm 三隻 limited 鏡頭在美國賣多少。於是我去 B&H 查了他們的價格分別是:\n",
    "\n",
    "    prices = [1096.95, 596.95, 896.95]\n",
    "    \n",
    "我又查了 Google 匯率 1 美金為 31.71 元。請把三支鏡頭的價格換算為台幣。"
   ]
  },
  {
   "cell_type": "code",
   "execution_count": 2,
   "metadata": {},
   "outputs": [
    {
     "name": "stdout",
     "output_type": "stream",
     "text": [
      "台幣價格為: [34784.2845 18929.2845 28442.2845]\n"
     ]
    }
   ],
   "source": [
    "import numpy as np\n",
    "\n",
    "prices = [1096.95, 596.95, 896.95]\n",
    "TWD_ExchangeRate = 31.71\n",
    "\n",
    "USD_prices = np.array(prices)\n",
    "TWD_prices = USD_prices * TWD_ExchangeRate\n",
    "\n",
    "print(f\"台幣價格為: {TWD_prices}\")\n"
   ]
  },
  {
   "cell_type": "markdown",
   "metadata": {},
   "source": [
    "先不管這實在有夠醜的數字, 我們要記得在科學計算中:\n",
    "\n",
    "### 儘可能不要使用迴圈\n",
    "\n",
    "這可能嗎?"
   ]
  },
  {
   "cell_type": "markdown",
   "metadata": {},
   "source": [
    "### 【示範】陣列換算匯率"
   ]
  },
  {
   "cell_type": "code",
   "execution_count": 3,
   "metadata": {},
   "outputs": [
    {
     "name": "stdout",
     "output_type": "stream",
     "text": [
      "台幣價格為: [34784.2845 18929.2845 28442.2845]\n"
     ]
    }
   ],
   "source": [
    "import numpy as np\n",
    "\n",
    "prices = [1096.95, 596.95, 896.95]\n",
    "TWD_ExchangeRate = 31.71\n",
    "\n",
    "USD_prices = np.array(prices)\n",
    "TWD_prices = USD_prices * TWD_ExchangeRate\n",
    "\n",
    "print(f\"台幣價格為: {TWD_prices}\")\n"
   ]
  },
  {
   "cell_type": "markdown",
   "metadata": {},
   "source": [
    "哦哦, 傑克, 這太神奇了!"
   ]
  },
  {
   "cell_type": "markdown",
   "metadata": {},
   "source": [
    "## 2. 其實 array 還有很多功能\n",
    "\n",
    "### 【練習】 成績計算\n",
    "\n",
    "一位老師成績這樣算的:\n",
    "\n",
    "* 平時成績 20%\n",
    "* 期中考   35%\n",
    "* 期未考   45%\n",
    "\n",
    "有位同學\n",
    "\n",
    "* 平時成績 85 分\n",
    "* 期中 70 分\n",
    "* 期末 80 分\n",
    "\n",
    "這位同學的學期成績是多少?"
   ]
  },
  {
   "cell_type": "code",
   "execution_count": 17,
   "metadata": {},
   "outputs": [],
   "source": [
    "grades = np.array([85,70,80])\n",
    "weights = np.array([0.2, 0.35, 0.45])"
   ]
  },
  {
   "cell_type": "markdown",
   "metadata": {},
   "source": [
    "這還不是我們要的最終成績啊!"
   ]
  },
  {
   "cell_type": "code",
   "execution_count": 18,
   "metadata": {},
   "outputs": [
    {
     "data": {
      "text/plain": [
       "array([17. , 24.5, 36. ])"
      ]
     },
     "execution_count": 18,
     "metadata": {},
     "output_type": "execute_result"
    }
   ],
   "source": []
  },
  {
   "cell_type": "markdown",
   "metadata": {},
   "source": [
    "### 【提示】 array 還有很多函數可以用\n",
    "\n",
    "可以先打入\n",
    "\n",
    "    weighted_grades.\n",
    "    \n",
    "先不要按 `enter` 或 `shift-enter`, 而是按 `tab`...\n"
   ]
  },
  {
   "cell_type": "code",
   "execution_count": 4,
   "metadata": {},
   "outputs": [
    {
     "name": "stdout",
     "output_type": "stream",
     "text": [
      "學期成績: 77.5\n"
     ]
    }
   ],
   "source": [
    "import numpy as np\n",
    "\n",
    "grades = np.array([85, 70, 80])\n",
    "weights = np.array([0.2, 0.35, 0.45])\n",
    "\n",
    "result = np.dot(grades, weights)\n",
    "print(f\"學期成績: {result}\")"
   ]
  },
  {
   "cell_type": "markdown",
   "metadata": {},
   "source": [
    "### 【技巧】 一行完成成績計算"
   ]
  },
  {
   "cell_type": "code",
   "execution_count": 5,
   "metadata": {},
   "outputs": [
    {
     "name": "stdout",
     "output_type": "stream",
     "text": [
      "學期成績: 77.5\n"
     ]
    }
   ],
   "source": [
    "import numpy as np\n",
    "\n",
    "grades = np.array([85, 70, 80])\n",
    "weights = np.array([0.2, 0.35, 0.45])\n",
    "\n",
    "result = np.sum(grades * weights)\n",
    "print(f\"學期成績: {result}\")"
   ]
  },
  {
   "cell_type": "markdown",
   "metadata": {},
   "source": [
    "## 3. 重要的 array 大變身!\n",
    "\n",
    "我們在數據分析, 常常要改 array 的型式。"
   ]
  },
  {
   "cell_type": "markdown",
   "metadata": {},
   "source": [
    "### 【練習】 一個 50 個數字的 array\n",
    "\n",
    "先想辦法、用亂數做出 50 個數字的 array, 叫做 A 好了。"
   ]
  },
  {
   "cell_type": "code",
   "execution_count": 6,
   "metadata": {},
   "outputs": [
    {
     "name": "stdout",
     "output_type": "stream",
     "text": [
      "random_array: [ 86  98   1  86  98  69  88  45   1  41  33  56  82  22  66  89  85  13\n",
      "  46   6  44  74   8  15  27  56  89  46  54   0  71  47  66  49  60  94\n",
      " 100   6  54  50  79  30  83  31  45  21  25  28  59  67]\n",
      "float_array: [0.5510754  0.23188913 0.17071446 0.68382165 0.56889083 0.66780154\n",
      " 0.92186873 0.67036017 0.82395953 0.32431    0.06740179 0.65099833\n",
      " 0.23435067 0.18513193 0.62184397 0.11417146 0.038531   0.92764984\n",
      " 0.80331586 0.15949528 0.611954   0.6520041  0.23078384 0.10740319\n",
      " 0.21866301 0.34930691 0.50809242 0.45421996 0.1332643  0.01452537\n",
      " 0.52354089 0.4500186  0.34982834 0.75200667 0.89737342 0.86579398\n",
      " 0.02563666 0.34198452 0.23331686 0.30296688 0.08453778 0.86130151\n",
      " 0.43852902 0.89142386 0.99134717 0.18956879 0.70307262 0.81949149\n",
      " 0.05908994 0.81657256]\n"
     ]
    }
   ],
   "source": [
    "import numpy as np\n",
    "\n",
    "# 產生 50 個介於 0 到 100 的整數亂數\n",
    "random_array = np.random.randint(0, 101, size=50)\n",
    "print(f\"random_array: {random_array}\")\n",
    "\n",
    "# 產生 50 個 0 到 1 之間的浮點亂數\n",
    "float_array = np.random.rand(50)\n",
    "print(f\"float_array: {float_array}\")"
   ]
  },
  {
   "cell_type": "markdown",
   "metadata": {},
   "source": [
    "### 【技巧】 檢查 A 的 `shape`"
   ]
  },
  {
   "cell_type": "code",
   "execution_count": 8,
   "metadata": {},
   "outputs": [
    {
     "name": "stdout",
     "output_type": "stream",
     "text": [
      "維度形狀: (50,)\n"
     ]
    }
   ],
   "source": [
    "Shape = float_array.shape\n",
    "print(f\"維度形狀: {Shape}\")"
   ]
  },
  {
   "cell_type": "markdown",
   "metadata": {},
   "source": [
    "### 【技巧】 更改 A 的 shape"
   ]
  },
  {
   "cell_type": "code",
   "execution_count": 9,
   "metadata": {},
   "outputs": [
    {
     "name": "stdout",
     "output_type": "stream",
     "text": [
      "[[0.5510754  0.23188913 0.17071446 0.68382165 0.56889083 0.66780154\n",
      "  0.92186873 0.67036017 0.82395953 0.32431   ]\n",
      " [0.06740179 0.65099833 0.23435067 0.18513193 0.62184397 0.11417146\n",
      "  0.038531   0.92764984 0.80331586 0.15949528]\n",
      " [0.611954   0.6520041  0.23078384 0.10740319 0.21866301 0.34930691\n",
      "  0.50809242 0.45421996 0.1332643  0.01452537]\n",
      " [0.52354089 0.4500186  0.34982834 0.75200667 0.89737342 0.86579398\n",
      "  0.02563666 0.34198452 0.23331686 0.30296688]\n",
      " [0.08453778 0.86130151 0.43852902 0.89142386 0.99134717 0.18956879\n",
      "  0.70307262 0.81949149 0.05908994 0.81657256]]\n",
      "新維度形狀: (5, 10)\n"
     ]
    }
   ],
   "source": [
    "row = 5\n",
    "column = 10\n",
    "float_array.shape = (row,column)\n",
    "\n",
    "print(float_array)\n",
    "Shape = float_array.shape\n",
    "print(f\"新維度形狀: {Shape}\")"
   ]
  },
  {
   "cell_type": "markdown",
   "metadata": {},
   "source": [
    "### 【技巧】 也可以用 `reshape`\n",
    "\n",
    "但要注意, reshape 並沒有改原來的陣列。"
   ]
  },
  {
   "cell_type": "code",
   "execution_count": 10,
   "metadata": {},
   "outputs": [
    {
     "name": "stdout",
     "output_type": "stream",
     "text": [
      "Reshape維度形狀: (5, 10)\n"
     ]
    }
   ],
   "source": [
    "print(f\"Reshape維度形狀: {float_array.reshape(row,column).shape}\")"
   ]
  },
  {
   "cell_type": "markdown",
   "metadata": {},
   "source": [
    "### 【技巧】 拉平 `ravel`\n",
    "\n",
    "雖然你想一想就知道可以用 `shape` 或 `reshape` 把多維陣列拉成一維。不過用 `ravel` 很潮。"
   ]
  },
  {
   "cell_type": "code",
   "execution_count": 11,
   "metadata": {},
   "outputs": [
    {
     "name": "stdout",
     "output_type": "stream",
     "text": [
      "float_array after ravel: [[0.5510754  0.23188913 0.17071446 0.68382165 0.56889083 0.66780154\n",
      "  0.92186873 0.67036017 0.82395953 0.32431   ]\n",
      " [0.06740179 0.65099833 0.23435067 0.18513193 0.62184397 0.11417146\n",
      "  0.038531   0.92764984 0.80331586 0.15949528]\n",
      " [0.611954   0.6520041  0.23078384 0.10740319 0.21866301 0.34930691\n",
      "  0.50809242 0.45421996 0.1332643  0.01452537]\n",
      " [0.52354089 0.4500186  0.34982834 0.75200667 0.89737342 0.86579398\n",
      "  0.02563666 0.34198452 0.23331686 0.30296688]\n",
      " [0.08453778 0.86130151 0.43852902 0.89142386 0.99134717 0.18956879\n",
      "  0.70307262 0.81949149 0.05908994 0.81657256]]\n",
      "Reshape維度形狀: (50,)\n"
     ]
    }
   ],
   "source": [
    "# 拉平為一維陣列(ravel)\n",
    "print(f\"float_array after ravel: {float_array}\")\n",
    "print(f\"Reshape維度形狀: {float_array.ravel().shape}\")"
   ]
  },
  {
   "cell_type": "markdown",
   "metadata": {},
   "source": [
    "## 4. 快速 array 生成法"
   ]
  },
  {
   "cell_type": "markdown",
   "metadata": {},
   "source": [
    "### 【技巧】 都是 0 的 array"
   ]
  },
  {
   "cell_type": "code",
   "execution_count": 12,
   "metadata": {},
   "outputs": [
    {
     "name": "stdout",
     "output_type": "stream",
     "text": [
      "這是5x10的ZeroArray: [[0. 0. 0. 0. 0. 0. 0. 0. 0. 0.]\n",
      " [0. 0. 0. 0. 0. 0. 0. 0. 0. 0.]\n",
      " [0. 0. 0. 0. 0. 0. 0. 0. 0. 0.]\n",
      " [0. 0. 0. 0. 0. 0. 0. 0. 0. 0.]\n",
      " [0. 0. 0. 0. 0. 0. 0. 0. 0. 0.]]\n"
     ]
    }
   ],
   "source": [
    "row = 5\n",
    "column = 10\n",
    "\n",
    "# 快速生成都是0的陣列\n",
    "ZeroArray = np.zeros((row,column))\n",
    "print(f\"這是{row}x{column}的ZeroArray: {ZeroArray}\")"
   ]
  },
  {
   "cell_type": "markdown",
   "metadata": {},
   "source": [
    "### 【技巧】 都是 1 的 array"
   ]
  },
  {
   "cell_type": "code",
   "execution_count": 13,
   "metadata": {},
   "outputs": [
    {
     "name": "stdout",
     "output_type": "stream",
     "text": [
      "這是3x4的OnesArray: [[1. 1. 1. 1.]\n",
      " [1. 1. 1. 1.]\n",
      " [1. 1. 1. 1.]]\n"
     ]
    }
   ],
   "source": [
    "row = 3\n",
    "column = 4\n",
    "\n",
    "# 快速生成都是1的陣列\n",
    "OnesArray = np.ones((row,column))\n",
    "print(f\"這是{row}x{column}的OnesArray: {OnesArray}\")"
   ]
  },
  {
   "cell_type": "markdown",
   "metadata": {},
   "source": [
    "### 【技巧】單位矩陣"
   ]
  },
  {
   "cell_type": "code",
   "execution_count": 16,
   "metadata": {},
   "outputs": [
    {
     "name": "stdout",
     "output_type": "stream",
     "text": [
      "建立 3x3 的單位矩陣:\n",
      " [[1. 0. 0.]\n",
      " [0. 1. 0.]\n",
      " [0. 0. 1.]]\n",
      "建立 3x4 的矩陣，主對角線偏移到上方一格:\n",
      " [[0. 1. 0. 0.]\n",
      " [0. 0. 1. 0.]\n",
      " [0. 0. 0. 1.]]\n"
     ]
    }
   ],
   "source": [
    "# np.eye(N, M=None, k=0, dtype=float)\n",
    "# N：矩陣的列數（rows）\n",
    "# M：矩陣的欄數（columns），預設與 N 相同，形成方陣\n",
    "# k：對角線的偏移量（預設為 0）\n",
    "# k=0：主對角線\n",
    "# k>0：上方對角線\n",
    "# k<0：下方對角線\n",
    "# dtype：資料型別（例如 int, float）\n",
    "\n",
    "# 建立 3x3 的單位矩陣\n",
    "# np.eye(3)\n",
    "print(f\"建立 3x3 的單位矩陣:\\n {np.eye(3)}\")\n",
    "# 建立 3x4 的矩陣，主對角線偏移到上方一格\n",
    "# np.eye(3, 4, k=1)\n",
    "print(f\"建立 3x4 的矩陣，主對角線偏移到上方一格:\\n {np.eye(3, 4, k=1)}\")"
   ]
  },
  {
   "cell_type": "markdown",
   "metadata": {},
   "source": [
    "### 【技巧】給定範圍均勻生出 n 個點"
   ]
  },
  {
   "cell_type": "code",
   "execution_count": 17,
   "metadata": {},
   "outputs": [
    {
     "name": "stdout",
     "output_type": "stream",
     "text": [
      "從0到10, 個數=100 的等差數列:\n",
      " [ 0.          0.1010101   0.2020202   0.3030303   0.4040404   0.50505051\n",
      "  0.60606061  0.70707071  0.80808081  0.90909091  1.01010101  1.11111111\n",
      "  1.21212121  1.31313131  1.41414141  1.51515152  1.61616162  1.71717172\n",
      "  1.81818182  1.91919192  2.02020202  2.12121212  2.22222222  2.32323232\n",
      "  2.42424242  2.52525253  2.62626263  2.72727273  2.82828283  2.92929293\n",
      "  3.03030303  3.13131313  3.23232323  3.33333333  3.43434343  3.53535354\n",
      "  3.63636364  3.73737374  3.83838384  3.93939394  4.04040404  4.14141414\n",
      "  4.24242424  4.34343434  4.44444444  4.54545455  4.64646465  4.74747475\n",
      "  4.84848485  4.94949495  5.05050505  5.15151515  5.25252525  5.35353535\n",
      "  5.45454545  5.55555556  5.65656566  5.75757576  5.85858586  5.95959596\n",
      "  6.06060606  6.16161616  6.26262626  6.36363636  6.46464646  6.56565657\n",
      "  6.66666667  6.76767677  6.86868687  6.96969697  7.07070707  7.17171717\n",
      "  7.27272727  7.37373737  7.47474747  7.57575758  7.67676768  7.77777778\n",
      "  7.87878788  7.97979798  8.08080808  8.18181818  8.28282828  8.38383838\n",
      "  8.48484848  8.58585859  8.68686869  8.78787879  8.88888889  8.98989899\n",
      "  9.09090909  9.19191919  9.29292929  9.39393939  9.49494949  9.5959596\n",
      "  9.6969697   9.7979798   9.8989899  10.        ]\n"
     ]
    }
   ],
   "source": [
    "#建立等差數列\n",
    "# np.linspace(start, stop, num=50, endpoint=True, retstep=False, dtype=None)\n",
    "\n",
    "# start：起始值\n",
    "# stop：終止值\n",
    "# num：要產生的數值個數（預設是 50）\n",
    "# endpoint：是否包含終止值 stop（預設為 True）\n",
    "# retstep：是否回傳間距（如果設為 True，會回傳 (array, step)）\n",
    "# dtype：資料型別（例如 float, int）\n",
    "\n",
    "# 建立從 0 到 10 個數 = 100 的等差數列\n",
    "Start = 0\n",
    "Stop = 10\n",
    "N = 100\n",
    "ArithmeticSequenceArray = np.linspace(Start, Stop, N)\n",
    "print(f\"從0到10, 個數=100 的等差數列:\\n {ArithmeticSequenceArray}\")"
   ]
  },
  {
   "cell_type": "markdown",
   "metadata": {},
   "source": [
    "### 【技巧】`range` 的 array 版\n",
    "\n",
    "就是 `arange`。"
   ]
  },
  {
   "cell_type": "code",
   "execution_count": 18,
   "metadata": {},
   "outputs": [
    {
     "name": "stdout",
     "output_type": "stream",
     "text": [
      "[0 1 2 3 4 5 6 7 8 9]\n",
      "[2 4 6 8]\n",
      "[0.  0.2 0.4 0.6 0.8]\n"
     ]
    }
   ],
   "source": [
    "# np.arange() 是 NumPy 中用來建立等差數列的函數，功能類似 Python 的內建 range()，\n",
    "# 但它可以產生 浮點數，並回傳的是 NumPy 陣列，非常適合用在數值計算、資料分析、繪圖等場景。\n",
    "\n",
    "# np.arange([start,] stop[, step], dtype=None)\n",
    "# start：起始值（預設為 0）\n",
    "# stop：終止值（不包含這個值）\n",
    "# step：步長（預設為 1）\n",
    "# dtype：資料型別（例如 int, float）\n",
    "\n",
    "# 建立從 0 到 9 的整數陣列\n",
    "print(np.arange(10))\n",
    "# 從 2 到 10，每隔 2 個數字\n",
    "print(np.arange(2, 10, 2))\n",
    "# 建立浮點數序列\n",
    "print(np.arange(0, 1, 0.2))\n",
    "\n",
    "\n",
    "# 函數\t        控制方式\t         是否包含終點\t    適合用途\n",
    "#--------------------------------------------------------------\n",
    "# np.arange\t    控制「步長」\t     不包含終點\t    精確控制間距\n",
    "# np.linspace\t控制「點的數量」\t 可選擇包含終點\t精確控制點的個數"
   ]
  },
  {
   "cell_type": "markdown",
   "metadata": {},
   "source": [
    "## 5. 超重要 `axis` 觀念\n",
    "\n",
    "初學 `numpy` 很多人有點弄不清楚 `axis` 概念。其實掌握矩陣, 或很像矩陣的陣列都是「先列後行」就可以!\n",
    "\n",
    "我們先弄個 array 來練習。"
   ]
  },
  {
   "cell_type": "markdown",
   "metadata": {},
   "source": [
    "### 【重點】 一列一列算下來是 `axis=0`"
   ]
  },
  {
   "cell_type": "markdown",
   "metadata": {},
   "source": [
    "![axis=0](images/axis0.png)"
   ]
  },
  {
   "cell_type": "markdown",
   "metadata": {},
   "source": [
    "### 【重點】 一行一行算過去是 `axis=1`\n",
    "\n",
    "![axis=1](images/axis1.png)"
   ]
  },
  {
   "cell_type": "markdown",
   "metadata": {},
   "source": [
    "### 【提示】當然也有可能全部算"
   ]
  },
  {
   "cell_type": "code",
   "execution_count": 20,
   "metadata": {},
   "outputs": [
    {
     "name": "stdout",
     "output_type": "stream",
     "text": [
      "[[ 0  1  2  3]\n",
      " [ 4  5  6  7]\n",
      " [ 8  9 10 11]]\n",
      "全部加總: 66\n",
      "每一row加總（By column加總）: [12 15 18 21]\n",
      "每一column加總（By row加總）: [ 6 22 38]\n"
     ]
    }
   ],
   "source": [
    "# 建立一個 3x4 的陣列\n",
    "a = np.arange(12).reshape(3, 4)\n",
    "print(a)\n",
    "AllSum = np.sum(a)          # 結果是 66（全部加總）\n",
    "print(f\"全部加總: {AllSum}\")\n",
    "RowSum = np.sum(a, axis=0) # 結果是 [12 15 18 21]（By column加總）\n",
    "print(f\"每一row加總（By column加總）: {RowSum}\")\n",
    "ColumnSum = np.sum(a, axis=1)  # 結果是 [ 6 22 38]（By row加總）\n",
    "print(f\"每一column加總（By row加總）: {ColumnSum}\")\n"
   ]
  },
  {
   "cell_type": "markdown",
   "metadata": {},
   "source": [
    "## 6. array 過濾器\n",
    "\n",
    "篩出我們要的資料, 這樣的技巧非常重要!"
   ]
  },
  {
   "cell_type": "markdown",
   "metadata": {},
   "source": [
    "### 【例子】篩出大於 0 的數\n",
    "\n",
    "我們有個陣列, 想找出大於 0 的數。<br>\n",
    "L = np.array([3, -2, -1, 5, 7, -3])"
   ]
  },
  {
   "cell_type": "code",
   "execution_count": 55,
   "metadata": {},
   "outputs": [],
   "source": [
    "L = np.array([3, -2, -1, 5, 7, -3])"
   ]
  },
  {
   "cell_type": "markdown",
   "metadata": {},
   "source": [
    "我們可以很白痴的自己判斷...<br>\n",
    "c = np.array([True,False,False,True,True,False])"
   ]
  },
  {
   "cell_type": "code",
   "execution_count": 21,
   "metadata": {},
   "outputs": [
    {
     "name": "stdout",
     "output_type": "stream",
     "text": [
      "範例陣列中的正數為: [2 5 7]\n"
     ]
    }
   ],
   "source": [
    "# 在 NumPy 中，過濾器（或稱布林索引）是一種非常強大的工具，\n",
    "# 可以用來從陣列中選出符合條件的元素。\n",
    "\n",
    "# 篩選陣列中所有 > 0 的值\n",
    "# 建立一個 NumPy 陣列\n",
    "SampleArr = np.array([-3, 0, 2, 5, -1, 7])\n",
    "# 使用布林條件建立過濾器\n",
    "filter = SampleArr > 0\n",
    "# 套用過濾器\n",
    "PositiveNumber = SampleArr[filter]\n",
    "print(f\"範例陣列中的正數為: {PositiveNumber}\")  "
   ]
  },
  {
   "cell_type": "markdown",
   "metadata": {},
   "source": [
    "這是做啥呢? 我們可以瞬間..."
   ]
  },
  {
   "cell_type": "markdown",
   "metadata": {},
   "source": [
    "除了自己做很白痴, 這看來很厲害!"
   ]
  },
  {
   "cell_type": "markdown",
   "metadata": {},
   "source": [
    "事實上我們可以叫 `numpy` 做!"
   ]
  },
  {
   "cell_type": "markdown",
   "metadata": {},
   "source": [
    "這有點強, 我們還可以一次到位!"
   ]
  },
  {
   "cell_type": "markdown",
   "metadata": {},
   "source": [
    "## 7. 次元切割刀\n",
    "\n",
    "`numpy` 中 array 的切割法和 list 很像。"
   ]
  },
  {
   "cell_type": "markdown",
   "metadata": {},
   "source": [
    "### 【技巧】2維陣列切法\n",
    "\n",
    "記得先列後行!"
   ]
  },
  {
   "cell_type": "markdown",
   "metadata": {},
   "source": [
    "要所有的row, 切出行 1-3 位置。"
   ]
  },
  {
   "cell_type": "markdown",
   "metadata": {},
   "source": [
    "要所有的行col, 切出第 1 列row!"
   ]
  },
  {
   "cell_type": "code",
   "execution_count": 2,
   "metadata": {},
   "outputs": [
    {
     "name": "stdout",
     "output_type": "stream",
     "text": [
      "[20 30 40]\n",
      "[10 30 50]\n",
      "[[2 3]\n",
      " [5 6]]\n",
      "[[1 2]\n",
      " [4 5]]\n",
      "[2 5 8]\n",
      "[[4 5]\n",
      " [7 8]]\n",
      "[2 5 8]\n",
      "[4 5 6]\n"
     ]
    }
   ],
   "source": [
    "import numpy as np\n",
    "\n",
    "# 1. 基本切割：array[start:stop:step]\n",
    "# 適用於一維或多維陣列。\n",
    "# start：起始索引（包含）\n",
    "# stop：結束索引（不包含）\n",
    "# step：步長（可省略）\n",
    "a = np.array([10, 20, 30, 40, 50])\n",
    "print(a[1:4])       # [20 30 40]\n",
    "print(a[::2])       # [10 30 50]\n",
    "\n",
    "# 2. 多維陣列切割：使用逗號分隔各維度\n",
    "# 語法結構 b[行索引, 列索引]\n",
    "# 0:2 - 行索引範圍\n",
    "# 從索引 0 開始（第1行）\n",
    "# 到索引 2 之前結束（不包含第3行）\n",
    "# 所以選取第1行和第2行\n",
    "# --------------------\n",
    "# 1: - 列索引範圍\n",
    "# 從索引 1 開始（第2列）\n",
    "# 到結尾（沒有指定結束位置）\n",
    "# 所以選取第2列和之後的所有列\n",
    "\n",
    "b = np.arange(1,10).reshape(3,3)\n",
    "# b = np.array([[1, 2, 3],\n",
    "#               [4, 5, 6],\n",
    "#               [7, 8, 9]])\n",
    "print(b[0:2, 1:])   # [[2 3]\n",
    "                   #  [5 6]]\n",
    "print(b[0:2, 0:2])   # [[1 2]   前兩行，前兩列\n",
    "                     #  [4 5]]\n",
    "\n",
    "print(b[:, 1])       # [2 5 8]  所有行，第1列\n",
    "\n",
    "print(b[1:, :2])     # [[4 5]   從第1行開始，前兩列\n",
    "                     #  [7 8]]\n",
    "####################################################\n",
    "# 選取方式是範圍,非元素本身,有點像snipping tool\n",
    "####################################################\n",
    "# 3. 使用 : 取得整個維度\n",
    "print(b[:, 1])      # 第二欄所有值 → [2 5 8]\n",
    "print(b[1, :])      # 第二列所有值 → [4 5 6]"
   ]
  },
  {
   "cell_type": "markdown",
   "metadata": {},
   "source": [
    "## 8. `NumPy` 的 `zip` 和 `unzip`"
   ]
  },
  {
   "cell_type": "markdown",
   "metadata": {},
   "source": [
    "之前我們介紹 list 可以用 `zip` 和 `unzip` (其實還是 `zip`) 做到的資料格式變換, 在 array 中怎麼做呢?\n",
    "\n",
    "![zip and unzip](images/zip.png)"
   ]
  },
  {
   "cell_type": "markdown",
   "metadata": {},
   "source": [
    "### 【重點】array 的 `zip`\n",
    "\n",
    "![array zip](images/arrzip.png)"
   ]
  },
  {
   "cell_type": "code",
   "execution_count": 72,
   "metadata": {},
   "outputs": [],
   "source": [
    "x = np.array([1,2,3,4])\n",
    "y = np.array([5,6,7,8])"
   ]
  },
  {
   "cell_type": "code",
   "execution_count": 4,
   "metadata": {},
   "outputs": [
    {
     "name": "stdout",
     "output_type": "stream",
     "text": [
      "[1 2 3 4 5 6 7 8]\n",
      "[0 1 2 3 4]\n"
     ]
    }
   ],
   "source": [
    "# \"拼接\"一維陣列\n",
    "a = np.array([1, 2, 3, 4])\n",
    "b = np.array([5, 6, 7, 8])\n",
    "result = np.r_[a, b]\n",
    "print(result)\n",
    "# Output: array([1, 2, 3, 4, 5])\n",
    "\n",
    "# \"建立\"連續數列（類似 arange）\n",
    "seq = np.r_[0:5:1]\n",
    "print(seq)\n",
    "# Output: array([0, 1, 2, 3, 4])"
   ]
  },
  {
   "cell_type": "markdown",
   "metadata": {},
   "source": [
    "### 【重點】array 的 `unzip`\n",
    "\n",
    "這裡其實只需要用到 array 的切割法...\n",
    "\n",
    "![array zip](images/arrunzip.png)"
   ]
  },
  {
   "cell_type": "code",
   "execution_count": 7,
   "metadata": {},
   "outputs": [
    {
     "name": "stdout",
     "output_type": "stream",
     "text": [
      "[1 2 3 4]\n"
     ]
    }
   ],
   "source": [
    "print(a[0:])   "
   ]
  },
  {
   "cell_type": "code",
   "execution_count": null,
   "metadata": {},
   "outputs": [],
   "source": []
  }
 ],
 "metadata": {
  "kernelspec": {
   "display_name": "Python [conda env:base] *",
   "language": "python",
   "name": "conda-base-py"
  },
  "language_info": {
   "codemirror_mode": {
    "name": "ipython",
    "version": 3
   },
   "file_extension": ".py",
   "mimetype": "text/x-python",
   "name": "python",
   "nbconvert_exporter": "python",
   "pygments_lexer": "ipython3",
   "version": "3.13.5"
  }
 },
 "nbformat": 4,
 "nbformat_minor": 4
}
